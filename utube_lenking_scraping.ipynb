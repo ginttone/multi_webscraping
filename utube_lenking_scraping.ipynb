{
 "cells": [
  {
   "cell_type": "code",
   "execution_count": 1,
   "id": "18c8647b",
   "metadata": {},
   "outputs": [],
   "source": [
    "from selenium import webdriver"
   ]
  },
  {
   "cell_type": "code",
   "execution_count": 3,
   "id": "426831b2",
   "metadata": {},
   "outputs": [],
   "source": [
    "browser=webdriver.Chrome('./chromedriver.exe')"
   ]
  },
  {
   "cell_type": "code",
   "execution_count": 4,
   "id": "faeed714",
   "metadata": {},
   "outputs": [],
   "source": [
    "browser.get('https://youtube-rank.com/board/bbs/board.php?bo_table=youtube')"
   ]
  },
  {
   "cell_type": "code",
   "execution_count": 5,
   "id": "334fe707",
   "metadata": {},
   "outputs": [],
   "source": [
    "html=browser.page_source"
   ]
  },
  {
   "cell_type": "code",
   "execution_count": 6,
   "id": "ca7fa7b6",
   "metadata": {},
   "outputs": [],
   "source": [
    "from bs4 import BeautifulSoup"
   ]
  },
  {
   "cell_type": "code",
   "execution_count": 7,
   "id": "3171bf82",
   "metadata": {},
   "outputs": [],
   "source": [
    "soup=BeautifulSoup(html, 'html.parser')"
   ]
  },
  {
   "cell_type": "code",
   "execution_count": 11,
   "id": "03edcf11",
   "metadata": {},
   "outputs": [
    {
     "name": "stdout",
     "output_type": "stream",
     "text": [
      "<class 'bs4.element.ResultSet'>\n"
     ]
    },
    {
     "data": {
      "text/plain": [
       "<tr class=\"aos-init aos-animate\" data-aos=\"fade-up\" data-aos-duration=\"800\">\n",
       "<td class=\"rank\">\n",
       "                        1                    </td>\n",
       "<td class=\"td_img\">\n",
       "<div class=\"info_img\"><a href=\"https://youtube-rank.com/board/bbs/board.php?bo_table=youtube&amp;wr_id=3203\"><img class=\"lazyload\" data-src=\"https://yt3.ggpht.com/ytc/AKedOLTat8_vr7h2i29n67lvNLMp1F-9Ch2ejFRlRzt0zQ=s88-c-k-c0x00ffffff-no-rj-mo\" height=\"88\" src=\"https://yt3.ggpht.com/ytc/AKedOLTat8_vr7h2i29n67lvNLMp1F-9Ch2ejFRlRzt0zQ=s88-c-k-c0x00ffffff-no-rj-mo\" width=\"88\"/></a></div>\n",
       "<p class=\"info_rank\">1</p>\n",
       "</td>\n",
       "<td class=\"subject\">\n",
       "<h1>\n",
       "<p <a=\"\" class=\"category\" href=\"https://youtube-rank.com/board/bbs/board.php?bo_table=youtube&amp;sca=%EC%9D%8C%EC%95%85%2F%EB%8C%84%EC%8A%A4%2F%EA%B0%80%EC%88%98\">[음악/댄스/가수]\n",
       "                                \n",
       "                                </p>\n",
       "<a href=\"https://youtube-rank.com/board/bbs/board.php?bo_table=youtube&amp;wr_id=3203\">\n",
       "\t\t\t\t\t\t\t\t\n",
       "\t\t\t\t\t\t\t\tBLACKPINK\t\t\t\t\t\t\t</a>\n",
       "<span>\n",
       "<i class=\"fa fa-comment\"></i>\n",
       "\t\t\t\t\t\t\t\t1\t\t\t\t\t\t\t</span>\n",
       "<i aria-hidden=\"true\" class=\"fa fa-heart\"></i> </h1>\n",
       "<h2><span><a href=\"https://youtube-rank.com/board/bbs/board.php?bo_table=youtube&amp;wr_id=3203\">\"YG Entertainment\" YG 와이지 K-pop BLACKPINK 블랙핑크 블핑 제니 로제 리사 지수 Lisa Jisoo Jennie ...</a></span></h2>\n",
       "<h3>\n",
       "<i class=\"fa fa-user\"></i>\n",
       "                            6240만<i class=\"fa fa-play\"></i>182억0966만                            <i class=\"fa fa-video-camera\"></i>\n",
       "                            359                            <i class=\"fa fa-eye\"></i>\n",
       "                            13,273                        </h3>\n",
       "</td>\n",
       "<td class=\"subscriber_cnt\">6240만</td>\n",
       "<td class=\"view_cnt\">182억0966만</td>\n",
       "<td class=\"video_cnt\">359개</td>\n",
       "<td class=\"hit\">\n",
       "<strong>13,273</strong>\n",
       "<span>HIT</span>\n",
       "</td>\n",
       "</tr>"
      ]
     },
     "execution_count": 11,
     "metadata": {},
     "output_type": "execute_result"
    }
   ],
   "source": [
    "contents=soup.select('tr.aos-init')\n",
    "print(type(contents))\n",
    "contents[0]"
   ]
  },
  {
   "cell_type": "code",
   "execution_count": 16,
   "id": "a77da281",
   "metadata": {},
   "outputs": [],
   "source": [
    "content= contents[0]"
   ]
  },
  {
   "cell_type": "code",
   "execution_count": 17,
   "id": "cd95b008",
   "metadata": {},
   "outputs": [
    {
     "data": {
      "text/plain": [
       "'[음악/댄스/가수]'"
      ]
     },
     "execution_count": 17,
     "metadata": {},
     "output_type": "execute_result"
    }
   ],
   "source": [
    "content.select('p.category')[0].text.strip()"
   ]
  },
  {
   "cell_type": "code",
   "execution_count": 18,
   "id": "ed4a5d6a",
   "metadata": {},
   "outputs": [],
   "source": [
    "category=content.select('p.category')[0].text.strip()"
   ]
  },
  {
   "cell_type": "code",
   "execution_count": null,
   "id": "72e53f7d",
   "metadata": {},
   "outputs": [],
   "source": []
  }
 ],
 "metadata": {
  "kernelspec": {
   "display_name": "Python 3",
   "language": "python",
   "name": "python3"
  },
  "language_info": {
   "codemirror_mode": {
    "name": "ipython",
    "version": 3
   },
   "file_extension": ".py",
   "mimetype": "text/x-python",
   "name": "python",
   "nbconvert_exporter": "python",
   "pygments_lexer": "ipython3",
   "version": "3.6.4"
  }
 },
 "nbformat": 4,
 "nbformat_minor": 5
}
