{
 "cells": [
  {
   "cell_type": "code",
   "execution_count": 1,
   "id": "5d2c3e0f",
   "metadata": {},
   "outputs": [],
   "source": [
    "from selenium import webdriver"
   ]
  },
  {
   "cell_type": "code",
   "execution_count": 3,
   "id": "1d29271f",
   "metadata": {},
   "outputs": [],
   "source": [
    "browser=webdriver.Chrome('./chromedriver.exe')\n",
    "browser.get('https://github.com/login')"
   ]
  },
  {
   "cell_type": "markdown",
   "id": "bedb4715",
   "metadata": {},
   "source": [
    "* input#login_field\n",
    "* input#password\n",
    "* input[type=\"submit\"]\n"
   ]
  },
  {
   "cell_type": "code",
   "execution_count": null,
   "id": "f4a32e50",
   "metadata": {},
   "outputs": [],
   "source": [
    "import time\n",
    "time.sleep(5)\n",
    "browser.find_elements_by_css_selector('input#login_field').send_keys('axlovexa')\n",
    "browser.find_elements_by_css_selector('input#password').send_keys('')\n"
   ]
  }
 ],
 "metadata": {
  "kernelspec": {
   "display_name": "Python 3",
   "language": "python",
   "name": "python3"
  },
  "language_info": {
   "codemirror_mode": {
    "name": "ipython",
    "version": 3
   },
   "file_extension": ".py",
   "mimetype": "text/x-python",
   "name": "python",
   "nbconvert_exporter": "python",
   "pygments_lexer": "ipython3",
   "version": "3.6.4"
  }
 },
 "nbformat": 4,
 "nbformat_minor": 5
}
