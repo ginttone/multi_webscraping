{
 "cells": [
  {
   "cell_type": "code",
   "execution_count": 1,
   "id": "537cb96b",
   "metadata": {},
   "outputs": [],
   "source": [
    "from selenium import webdriver"
   ]
  },
  {
   "cell_type": "code",
   "execution_count": 2,
   "id": "25163d9d",
   "metadata": {},
   "outputs": [],
   "source": [
    "browser=webdriver.Chrome('./chromedriver.exe')"
   ]
  },
  {
   "cell_type": "code",
   "execution_count": 3,
   "id": "ba2690f7",
   "metadata": {},
   "outputs": [],
   "source": [
    "browser.get('https://github.com/login')"
   ]
  },
  {
   "cell_type": "code",
   "execution_count": 4,
   "id": "a6378e98",
   "metadata": {},
   "outputs": [],
   "source": [
    "browser.find_elements_by_css_selector('input#login_field')[0].send_keys('ginttone')"
   ]
  },
  {
   "cell_type": "code",
   "execution_count": 5,
   "id": "37543f5d",
   "metadata": {},
   "outputs": [],
   "source": [
    "browser.find_elements_by_css_selector('input#password')[0].send_keys('multi0625')"
   ]
  },
  {
   "cell_type": "code",
   "execution_count": 6,
   "id": "5f24e7a2",
   "metadata": {},
   "outputs": [],
   "source": [
    "browser.find_elements_by_css_selector('input[type=\"submit\"]')[0].click()"
   ]
  },
  {
   "cell_type": "code",
   "execution_count": null,
   "id": "dc896d93",
   "metadata": {},
   "outputs": [],
   "source": [
    "browser.find_elements_by_css_selector('span.css-truncate[title=\"multi_webscraping\"]')[0].click()"
   ]
  },
  {
   "cell_type": "markdown",
   "id": "40f10b5e",
   "metadata": {},
   "source": [
    "from bs4 import BeautifulSoup"
   ]
  },
  {
   "cell_type": "markdown",
   "id": "b59a7b54",
   "metadata": {},
   "source": [
    "html=BeautifulSoup(browser.page_source, 'html.parser')"
   ]
  },
  {
   "cell_type": "markdown",
   "id": "ab1c4cb8",
   "metadata": {},
   "source": [
    "tags=html.select('div[role=\"row\"].Box-row')\n",
    "type(tags),len(tags)"
   ]
  },
  {
   "cell_type": "code",
   "execution_count": null,
   "id": "63ed0df9",
   "metadata": {},
   "outputs": [],
   "source": []
  }
 ],
 "metadata": {
  "kernelspec": {
   "display_name": "Python 3",
   "language": "python",
   "name": "python3"
  },
  "language_info": {
   "codemirror_mode": {
    "name": "ipython",
    "version": 3
   },
   "file_extension": ".py",
   "mimetype": "text/x-python",
   "name": "python",
   "nbconvert_exporter": "python",
   "pygments_lexer": "ipython3",
   "version": "3.6.4"
  }
 },
 "nbformat": 4,
 "nbformat_minor": 5
}
