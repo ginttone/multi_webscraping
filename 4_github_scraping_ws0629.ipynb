{
 "cells": [
  {
   "cell_type": "code",
   "execution_count": 1,
   "id": "db7a6542",
   "metadata": {},
   "outputs": [],
   "source": [
    "from selenium import webdriver"
   ]
  },
  {
   "cell_type": "code",
   "execution_count": 2,
   "id": "ab68f08c",
   "metadata": {},
   "outputs": [],
   "source": [
    "browser=webdriver.Chrome('./chromedriver.exe')"
   ]
  },
  {
   "cell_type": "code",
   "execution_count": 3,
   "id": "6ade1c0d",
   "metadata": {},
   "outputs": [],
   "source": [
    "browser.get('https://github.com/login')"
   ]
  },
  {
   "cell_type": "code",
   "execution_count": 4,
   "id": "3ac491e7",
   "metadata": {},
   "outputs": [],
   "source": [
    "browser.find_elements_by_css_selector('input#login_field')[0].send_keys('ginttone')"
   ]
  },
  {
   "cell_type": "code",
   "execution_count": 5,
   "id": "1fb8f1ae",
   "metadata": {},
   "outputs": [],
   "source": [
    "browser.find_elements_by_css_selector('input#password')[0].send_keys('****')"
   ]
  },
  {
   "cell_type": "code",
   "execution_count": 6,
   "id": "ae784715",
   "metadata": {},
   "outputs": [],
   "source": [
    "browser.find_elements_by_css_selector('input[type=\"submit\"]')[0].click()"
   ]
  },
  {
   "cell_type": "code",
   "execution_count": 7,
   "id": "e37d3c0d",
   "metadata": {},
   "outputs": [],
   "source": [
    "browser.find_elements_by_css_selector('span.css-truncate[title=\"multi_webscraping\"]')[0].click()"
   ]
  },
  {
   "cell_type": "code",
   "execution_count": 8,
   "id": "08f4852d",
   "metadata": {},
   "outputs": [],
   "source": [
    "from bs4 import BeautifulSoup"
   ]
  },
  {
   "cell_type": "code",
   "execution_count": 9,
   "id": "0c2c66f1",
   "metadata": {},
   "outputs": [],
   "source": [
    "html=BeautifulSoup(browser.page_source, 'html.parser')"
   ]
  },
  {
   "cell_type": "code",
   "execution_count": 10,
   "id": "b1a1071f",
   "metadata": {},
   "outputs": [
    {
     "data": {
      "text/plain": [
       "(bs4.element.ResultSet, 20)"
      ]
     },
     "execution_count": 10,
     "metadata": {},
     "output_type": "execute_result"
    }
   ],
   "source": [
    "tags=html.select('div[role=\"row\"].Box-row')\n",
    "type(tags),len(tags)"
   ]
  },
  {
   "cell_type": "code",
   "execution_count": 15,
   "id": "2667eecc",
   "metadata": {},
   "outputs": [
    {
     "data": {
      "text/plain": [
       "<div class=\"Box-row Box-row--focus-gray py-2 d-flex position-relative js-navigation-item\" role=\"row\">\n",
       "<div class=\"mr-3 flex-shrink-0\" role=\"gridcell\" style=\"width: 16px;\">\n",
       "<svg aria-hidden=\"true\" aria-label=\"Directory\" class=\"octicon octicon-file-directory hx_color-icon-directory\" data-view-component=\"true\" height=\"16\" version=\"1.1\" viewbox=\"0 0 16 16\" width=\"16\">\n",
       "<path d=\"M1.75 1A1.75 1.75 0 000 2.75v10.5C0 14.216.784 15 1.75 15h12.5A1.75 1.75 0 0016 13.25v-8.5A1.75 1.75 0 0014.25 3h-6.5a.25.25 0 01-.2-.1l-.9-1.2c-.33-.44-.85-.7-1.4-.7h-3.5z\" fill-rule=\"evenodd\"></path>\n",
       "</svg>\n",
       "</div>\n",
       "<div class=\"flex-auto min-width-0 col-md-2 mr-3\" role=\"rowheader\">\n",
       "<span class=\"css-truncate css-truncate-target d-block width-fit\"><a class=\"js-navigation-open Link--primary\" data-pjax=\"#repo-content-pjax-container\" href=\"/ginttone/multi_webscraping/tree/master/.idea\" title=\".idea\">.idea</a></span>\n",
       "</div>\n",
       "<div class=\"flex-auto min-width-0 d-none d-md-block col-5 mr-3\" role=\"gridcell\">\n",
       "<span class=\"css-truncate css-truncate-target d-block width-fit markdown-title\">\n",
       "<a class=\"Link--secondary\" data-pjax=\"true\" href=\"/ginttone/multi_webscraping/commit/87abff7b11413ec8b75df705239a473bb430f92e\" title=\"2nd commit\">2nd commit</a>\n",
       "</span>\n",
       "</div>\n",
       "<div class=\"color-text-tertiary text-right\" role=\"gridcell\" style=\"width:100px;\">\n",
       "<time-ago class=\"no-wrap\" data-view-component=\"true\" datetime=\"2021-06-24T04:03:39Z\" title=\"2021년 6월 24일 오후 1:03 GMT+9\">5 days ago</time-ago>\n",
       "</div>\n",
       "</div>"
      ]
     },
     "execution_count": 15,
     "metadata": {},
     "output_type": "execute_result"
    }
   ],
   "source": [
    "tag=tags[0]\n",
    "tag"
   ]
  },
  {
   "cell_type": "code",
   "execution_count": 17,
   "id": "05b02715",
   "metadata": {},
   "outputs": [
    {
     "data": {
      "text/plain": [
       "<div class=\"flex-auto min-width-0 col-md-2 mr-3\" role=\"rowheader\">\n",
       "<span class=\"css-truncate css-truncate-target d-block width-fit\"><a class=\"js-navigation-open Link--primary\" data-pjax=\"#repo-content-pjax-container\" href=\"/ginttone/multi_webscraping/tree/master/.idea\" title=\".idea\">.idea</a></span>\n",
       "</div>"
      ]
     },
     "execution_count": 17,
     "metadata": {},
     "output_type": "execute_result"
    }
   ],
   "source": [
    "file=tag.select('div[role=\"rowheader\"]')[0]\n",
    "file    "
   ]
  },
  {
   "cell_type": "code",
   "execution_count": 18,
   "id": "12bd5049",
   "metadata": {},
   "outputs": [
    {
     "data": {
      "text/plain": [
       "<a class=\"Link--secondary\" data-pjax=\"true\" href=\"/ginttone/multi_webscraping/commit/87abff7b11413ec8b75df705239a473bb430f92e\" title=\"2nd commit\">2nd commit</a>"
      ]
     },
     "execution_count": 18,
     "metadata": {},
     "output_type": "execute_result"
    }
   ],
   "source": [
    "commit=tag.select('a[data-pjax=\"true\"].Link--secondary')[0]\n",
    "commit"
   ]
  },
  {
   "cell_type": "code",
   "execution_count": 19,
   "id": "ee83327e",
   "metadata": {},
   "outputs": [
    {
     "data": {
      "text/plain": [
       "<time-ago class=\"no-wrap\" data-view-component=\"true\" datetime=\"2021-06-24T04:03:39Z\" title=\"2021년 6월 24일 오후 1:03 GMT+9\">5 days ago</time-ago>"
      ]
     },
     "execution_count": 19,
     "metadata": {},
     "output_type": "execute_result"
    }
   ],
   "source": [
    "time=tag.select('div>time-ago')[0]\n",
    "time"
   ]
  },
  {
   "cell_type": "code",
   "execution_count": 37,
   "id": "a9ed360d",
   "metadata": {},
   "outputs": [
    {
     "data": {
      "text/plain": [
       "[['.idea', '2nd commit', '5 days ago'],\n",
       " ['files', 'bs tags commit', '5 days ago'],\n",
       " ['saves', '0625_3ed_alldone', '4 days ago'],\n",
       " ['.gitignore', 'Initial commit', '5 days ago'],\n",
       " ['1_beautifulsoup_load.ipynb', 'change name', '4 days ago'],\n",
       " ['1_new01.txt', 'change name', '4 days ago'],\n",
       " ['1_new02.txt', 'change name', '4 days ago'],\n",
       " ['2_bs4_daum_economic01.ipynb', 'change name', '4 days ago'],\n",
       " ['2_bs_tags.ipynb', 'change name', '4 days ago'],\n",
       " ['2_scraping_bs4_daum_economic.ipynb', 'change name', '4 days ago'],\n",
       " ['2_selenium_load.ipynb', 'change name', '4 days ago'],\n",
       " ['3_gennie_scraping.ipynb', 'change name', '4 days ago'],\n",
       " ['3_github_login.ipynb', '0625_3ed_alldone', '4 days ago'],\n",
       " ['3_interpark_scraping.ipynb', 'change name', '4 days ago'],\n",
       " ['3_melon_scraping.ipynb', 'change name', '4 days ago'],\n",
       " ['3_starbucks_location.ipynb', '0625_3ed_alldone', '4 days ago'],\n",
       " ['3_youtuberank_scraping.ipynb', 'change name', '4 days ago'],\n",
       " ['3_youtuberankwithpage.ipynb', 'change name', '4 days ago'],\n",
       " ['README.md', 'Initial commit', '5 days ago'],\n",
       " ['chromedriver.exe', 'selenium1 commit', '4 days ago']]"
      ]
     },
     "execution_count": 37,
     "metadata": {},
     "output_type": "execute_result"
    }
   ],
   "source": [
    "github=[]\n",
    "for content in tags:\n",
    "    file=content.select('div[role=\"rowheader\"]')[0]\n",
    "    commit=content.select('a[data-pjax=\"true\"].Link--secondary')[0]\n",
    "    time=content.select('div>time-ago')[0]    \n",
    "    github.append([file.text.strip(),commit.text.strip(),time.text.strip()])\n",
    "github"
   ]
  },
  {
   "cell_type": "code",
   "execution_count": 38,
   "id": "5767d17d",
   "metadata": {},
   "outputs": [],
   "source": [
    "import pandas as pd"
   ]
  },
  {
   "cell_type": "code",
   "execution_count": 41,
   "id": "0ff2f3b5",
   "metadata": {},
   "outputs": [
    {
     "data": {
      "text/html": [
       "<div>\n",
       "<style scoped>\n",
       "    .dataframe tbody tr th:only-of-type {\n",
       "        vertical-align: middle;\n",
       "    }\n",
       "\n",
       "    .dataframe tbody tr th {\n",
       "        vertical-align: top;\n",
       "    }\n",
       "\n",
       "    .dataframe thead th {\n",
       "        text-align: right;\n",
       "    }\n",
       "</style>\n",
       "<table border=\"1\" class=\"dataframe\">\n",
       "  <thead>\n",
       "    <tr style=\"text-align: right;\">\n",
       "      <th></th>\n",
       "      <th>Name</th>\n",
       "      <th>Desc</th>\n",
       "      <th>Data</th>\n",
       "    </tr>\n",
       "  </thead>\n",
       "  <tbody>\n",
       "    <tr>\n",
       "      <th>0</th>\n",
       "      <td>.idea</td>\n",
       "      <td>2nd commit</td>\n",
       "      <td>5 days ago</td>\n",
       "    </tr>\n",
       "    <tr>\n",
       "      <th>1</th>\n",
       "      <td>files</td>\n",
       "      <td>bs tags commit</td>\n",
       "      <td>5 days ago</td>\n",
       "    </tr>\n",
       "    <tr>\n",
       "      <th>2</th>\n",
       "      <td>saves</td>\n",
       "      <td>0625_3ed_alldone</td>\n",
       "      <td>4 days ago</td>\n",
       "    </tr>\n",
       "    <tr>\n",
       "      <th>3</th>\n",
       "      <td>.gitignore</td>\n",
       "      <td>Initial commit</td>\n",
       "      <td>5 days ago</td>\n",
       "    </tr>\n",
       "    <tr>\n",
       "      <th>4</th>\n",
       "      <td>1_beautifulsoup_load.ipynb</td>\n",
       "      <td>change name</td>\n",
       "      <td>4 days ago</td>\n",
       "    </tr>\n",
       "    <tr>\n",
       "      <th>5</th>\n",
       "      <td>1_new01.txt</td>\n",
       "      <td>change name</td>\n",
       "      <td>4 days ago</td>\n",
       "    </tr>\n",
       "    <tr>\n",
       "      <th>6</th>\n",
       "      <td>1_new02.txt</td>\n",
       "      <td>change name</td>\n",
       "      <td>4 days ago</td>\n",
       "    </tr>\n",
       "    <tr>\n",
       "      <th>7</th>\n",
       "      <td>2_bs4_daum_economic01.ipynb</td>\n",
       "      <td>change name</td>\n",
       "      <td>4 days ago</td>\n",
       "    </tr>\n",
       "    <tr>\n",
       "      <th>8</th>\n",
       "      <td>2_bs_tags.ipynb</td>\n",
       "      <td>change name</td>\n",
       "      <td>4 days ago</td>\n",
       "    </tr>\n",
       "    <tr>\n",
       "      <th>9</th>\n",
       "      <td>2_scraping_bs4_daum_economic.ipynb</td>\n",
       "      <td>change name</td>\n",
       "      <td>4 days ago</td>\n",
       "    </tr>\n",
       "    <tr>\n",
       "      <th>10</th>\n",
       "      <td>2_selenium_load.ipynb</td>\n",
       "      <td>change name</td>\n",
       "      <td>4 days ago</td>\n",
       "    </tr>\n",
       "    <tr>\n",
       "      <th>11</th>\n",
       "      <td>3_gennie_scraping.ipynb</td>\n",
       "      <td>change name</td>\n",
       "      <td>4 days ago</td>\n",
       "    </tr>\n",
       "    <tr>\n",
       "      <th>12</th>\n",
       "      <td>3_github_login.ipynb</td>\n",
       "      <td>0625_3ed_alldone</td>\n",
       "      <td>4 days ago</td>\n",
       "    </tr>\n",
       "    <tr>\n",
       "      <th>13</th>\n",
       "      <td>3_interpark_scraping.ipynb</td>\n",
       "      <td>change name</td>\n",
       "      <td>4 days ago</td>\n",
       "    </tr>\n",
       "    <tr>\n",
       "      <th>14</th>\n",
       "      <td>3_melon_scraping.ipynb</td>\n",
       "      <td>change name</td>\n",
       "      <td>4 days ago</td>\n",
       "    </tr>\n",
       "    <tr>\n",
       "      <th>15</th>\n",
       "      <td>3_starbucks_location.ipynb</td>\n",
       "      <td>0625_3ed_alldone</td>\n",
       "      <td>4 days ago</td>\n",
       "    </tr>\n",
       "    <tr>\n",
       "      <th>16</th>\n",
       "      <td>3_youtuberank_scraping.ipynb</td>\n",
       "      <td>change name</td>\n",
       "      <td>4 days ago</td>\n",
       "    </tr>\n",
       "    <tr>\n",
       "      <th>17</th>\n",
       "      <td>3_youtuberankwithpage.ipynb</td>\n",
       "      <td>change name</td>\n",
       "      <td>4 days ago</td>\n",
       "    </tr>\n",
       "    <tr>\n",
       "      <th>18</th>\n",
       "      <td>README.md</td>\n",
       "      <td>Initial commit</td>\n",
       "      <td>5 days ago</td>\n",
       "    </tr>\n",
       "    <tr>\n",
       "      <th>19</th>\n",
       "      <td>chromedriver.exe</td>\n",
       "      <td>selenium1 commit</td>\n",
       "      <td>4 days ago</td>\n",
       "    </tr>\n",
       "  </tbody>\n",
       "</table>\n",
       "</div>"
      ],
      "text/plain": [
       "                                  Name              Desc        Data\n",
       "0                                .idea        2nd commit  5 days ago\n",
       "1                                files    bs tags commit  5 days ago\n",
       "2                                saves  0625_3ed_alldone  4 days ago\n",
       "3                           .gitignore    Initial commit  5 days ago\n",
       "4           1_beautifulsoup_load.ipynb       change name  4 days ago\n",
       "5                          1_new01.txt       change name  4 days ago\n",
       "6                          1_new02.txt       change name  4 days ago\n",
       "7          2_bs4_daum_economic01.ipynb       change name  4 days ago\n",
       "8                      2_bs_tags.ipynb       change name  4 days ago\n",
       "9   2_scraping_bs4_daum_economic.ipynb       change name  4 days ago\n",
       "10               2_selenium_load.ipynb       change name  4 days ago\n",
       "11             3_gennie_scraping.ipynb       change name  4 days ago\n",
       "12                3_github_login.ipynb  0625_3ed_alldone  4 days ago\n",
       "13          3_interpark_scraping.ipynb       change name  4 days ago\n",
       "14              3_melon_scraping.ipynb       change name  4 days ago\n",
       "15          3_starbucks_location.ipynb  0625_3ed_alldone  4 days ago\n",
       "16        3_youtuberank_scraping.ipynb       change name  4 days ago\n",
       "17         3_youtuberankwithpage.ipynb       change name  4 days ago\n",
       "18                           README.md    Initial commit  5 days ago\n",
       "19                    chromedriver.exe  selenium1 commit  4 days ago"
      ]
     },
     "execution_count": 41,
     "metadata": {},
     "output_type": "execute_result"
    }
   ],
   "source": [
    "pd_data = pd.DataFrame(github, columns=['Name','Desc','Data'])\n",
    "pd_data"
   ]
  },
  {
   "cell_type": "code",
   "execution_count": 42,
   "id": "51d3b187",
   "metadata": {},
   "outputs": [],
   "source": [
    "pd_data.to_excel('./saves/4_github_scraping_ws0629.xls',index=False)"
   ]
  },
  {
   "cell_type": "code",
   "execution_count": null,
   "id": "89924f1e",
   "metadata": {},
   "outputs": [],
   "source": []
  }
 ],
 "metadata": {
  "kernelspec": {
   "display_name": "Python 3",
   "language": "python",
   "name": "python3"
  },
  "language_info": {
   "codemirror_mode": {
    "name": "ipython",
    "version": 3
   },
   "file_extension": ".py",
   "mimetype": "text/x-python",
   "name": "python",
   "nbconvert_exporter": "python",
   "pygments_lexer": "ipython3",
   "version": "3.6.4"
  }
 },
 "nbformat": 4,
 "nbformat_minor": 5
}
