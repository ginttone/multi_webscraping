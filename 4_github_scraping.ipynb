{
 "cells": [
  {
   "cell_type": "code",
   "execution_count": 1,
   "id": "e1178648",
   "metadata": {},
   "outputs": [],
   "source": [
    "from selenium import webdriver"
   ]
  },
  {
   "cell_type": "code",
   "execution_count": 2,
   "id": "fc07e552",
   "metadata": {},
   "outputs": [],
   "source": [
    "browser=webdriver.Chrome('./chromedriver.exe')"
   ]
  },
  {
   "cell_type": "code",
   "execution_count": 3,
   "id": "2251e7d0",
   "metadata": {},
   "outputs": [],
   "source": [
    "browser.get('https://github.com/login')"
   ]
  },
  {
   "cell_type": "markdown",
   "id": "c393274c",
   "metadata": {},
   "source": [
    "ID : input#login_field\n",
    "\n",
    "PWD : input#password\n",
    "\n",
    "SIGN IN : input[type=\"submit\"]\n",
    "\n",
    "ajax쓸거 아니면 변수에 담을 필요는 없다"
   ]
  },
  {
   "cell_type": "code",
   "execution_count": 4,
   "id": "0ca24a11",
   "metadata": {},
   "outputs": [],
   "source": [
    "browser.find_elements_by_css_selector('input#login_field')[0].send_keys('ginttone')"
   ]
  },
  {
   "cell_type": "code",
   "execution_count": 5,
   "id": "9a816796",
   "metadata": {},
   "outputs": [],
   "source": [
    "browser.find_elements_by_css_selector('input#password')[0].send_keys('multi0625')"
   ]
  },
  {
   "cell_type": "code",
   "execution_count": 6,
   "id": "5d8862bc",
   "metadata": {},
   "outputs": [],
   "source": [
    "browser.find_elements_by_css_selector('input[type=\"submit\"]')[0].click()"
   ]
  },
  {
   "cell_type": "code",
   "execution_count": null,
   "id": "8595f3ca",
   "metadata": {},
   "outputs": [],
   "source": []
  },
  {
   "cell_type": "markdown",
   "id": "4f16699f",
   "metadata": {},
   "source": [
    "uri로 접급해보기\n",
    "\n",
    "https://github.com/ginttone/multi_webscraping"
   ]
  },
  {
   "cell_type": "code",
   "execution_count": 7,
   "id": "890c43d4",
   "metadata": {},
   "outputs": [],
   "source": [
    "browser.get('https://github.com/ginttone/multi_webscraping')"
   ]
  },
  {
   "cell_type": "markdown",
   "id": "6139f970",
   "metadata": {},
   "source": [
    "html가져오기"
   ]
  },
  {
   "cell_type": "code",
   "execution_count": 8,
   "id": "922c4b38",
   "metadata": {},
   "outputs": [],
   "source": [
    "from bs4 import BeautifulSoup"
   ]
  },
  {
   "cell_type": "code",
   "execution_count": 12,
   "id": "f70dbfe4",
   "metadata": {},
   "outputs": [],
   "source": [
    "html=BeautifulSoup(browser.page_source, 'html.parser')"
   ]
  },
  {
   "cell_type": "code",
   "execution_count": 17,
   "id": "9f6c3068",
   "metadata": {},
   "outputs": [
    {
     "data": {
      "text/plain": [
       "(bs4.element.ResultSet, 20)"
      ]
     },
     "execution_count": 17,
     "metadata": {},
     "output_type": "execute_result"
    }
   ],
   "source": [
    "tags=html.select('div[role=\"row\"].Box-row')\n",
    "type(tags),len(tags)"
   ]
  },
  {
   "cell_type": "markdown",
   "id": "dde538f1",
   "metadata": {},
   "source": [
    "'''\n",
    "songs = [] # or list()\n",
    "for content in contents:\n",
    "    category = content.select('p.category')[0]\n",
    "    title = content.select('h1 > a[href*=\"board\"]')[0]\n",
    "    print(category.text.strip(), title.text.strip())\n",
    "    songs.append([category.text.strip(), title.text.strip()])\n",
    "songs\n",
    "'''"
   ]
  },
  {
   "cell_type": "code",
   "execution_count": null,
   "id": "0c142c02",
   "metadata": {},
   "outputs": [],
   "source": [
    "\n",
    "    "
   ]
  }
 ],
 "metadata": {
  "kernelspec": {
   "display_name": "Python 3",
   "language": "python",
   "name": "python3"
  },
  "language_info": {
   "codemirror_mode": {
    "name": "ipython",
    "version": 3
   },
   "file_extension": ".py",
   "mimetype": "text/x-python",
   "name": "python",
   "nbconvert_exporter": "python",
   "pygments_lexer": "ipython3",
   "version": "3.6.4"
  }
 },
 "nbformat": 4,
 "nbformat_minor": 5
}
